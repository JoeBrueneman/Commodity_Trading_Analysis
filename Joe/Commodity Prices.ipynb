{
 "cells": [
  {
   "cell_type": "code",
   "execution_count": 4,
   "id": "5fb23a5c",
   "metadata": {
    "scrolled": true
   },
   "outputs": [],
   "source": [
    "import pandas as pd\n",
    "import json\n",
    "import requests\n",
    "from config import AlphaVan_key\n",
    "\n",
    "base_url = f'https://www.alphavantage.co/query?interval=monthly&apikey={AlphaVan_key}&function='"
   ]
  },
  {
   "cell_type": "code",
   "execution_count": 5,
   "id": "2a461954",
   "metadata": {},
   "outputs": [],
   "source": [
    "# Define function for searching AlphaAPI\n",
    "def search_AlphaAPI(search_term):\n",
    "    url = base_url + search_term\n",
    "    response = requests.get(url).json()\n",
    "    return response"
   ]
  },
  {
   "cell_type": "code",
   "execution_count": 6,
   "id": "5fda2c49",
   "metadata": {},
   "outputs": [],
   "source": [
    "# Import Coffee / Natural Gas / Oil WTI price data from Api and turn it into Json format and\n",
    "# store them each as their own variable\n",
    "Coffee_data = search_AlphaAPI(\"COFFEE\")\n",
    "NG_data = search_AlphaAPI(\"NATURAL_GAS\")\n",
    "WTI_data = search_AlphaAPI(\"WTI\")"
   ]
  },
  {
   "cell_type": "code",
   "execution_count": 7,
   "id": "96727bbb",
   "metadata": {},
   "outputs": [
    {
     "name": "stderr",
     "output_type": "stream",
     "text": [
      "C:\\Users\\Joey\\AppData\\Local\\Temp\\ipykernel_18444\\2260998949.py:4: SettingWithCopyWarning: \n",
      "A value is trying to be set on a copy of a slice from a DataFrame.\n",
      "Try using .loc[row_indexer,col_indexer] = value instead\n",
      "\n",
      "See the caveats in the documentation: https://pandas.pydata.org/pandas-docs/stable/user_guide/indexing.html#returning-a-view-versus-a-copy\n",
      "  Coffee_df[\"value\"] = Coffee_df[\"value\"].astype(float).round(2)\n"
     ]
    }
   ],
   "source": [
    "# Convert Coffee price data into a dataframe and remove useless information, clean up data by rounding\n",
    "df = pd.DataFrame(Coffee_data[\"data\"])\n",
    "Coffee_df = df[df[\"value\"] != \".\"]\n",
    "Coffee_df[\"value\"] = Coffee_df[\"value\"].astype(float).round(2)"
   ]
  },
  {
   "cell_type": "code",
   "execution_count": 8,
   "id": "2d3565e6",
   "metadata": {},
   "outputs": [],
   "source": [
    "# Convert Natural Gas and WTI price data into Dataframes, no clean up needed\n",
    "NG_df = pd.DataFrame(NG_data[\"data\"])\n",
    "WTI_df = pd.DataFrame(WTI_data[\"data\"])"
   ]
  },
  {
   "cell_type": "code",
   "execution_count": 9,
   "id": "99ada9bd",
   "metadata": {},
   "outputs": [],
   "source": [
    "# Filter Coffee dataframe to include 10 years of data for later merging to compare 10 years of data\n",
    "Filtered_Coffee_df = Coffee_df[Coffee_df.date.between(\"2013-08-01\", \"2023-08-01\")]"
   ]
  },
  {
   "cell_type": "code",
   "execution_count": 11,
   "id": "246328e6",
   "metadata": {},
   "outputs": [
    {
     "data": {
      "text/html": [
       "<div>\n",
       "<style scoped>\n",
       "    .dataframe tbody tr th:only-of-type {\n",
       "        vertical-align: middle;\n",
       "    }\n",
       "\n",
       "    .dataframe tbody tr th {\n",
       "        vertical-align: top;\n",
       "    }\n",
       "\n",
       "    .dataframe thead th {\n",
       "        text-align: right;\n",
       "    }\n",
       "</style>\n",
       "<table border=\"1\" class=\"dataframe\">\n",
       "  <thead>\n",
       "    <tr style=\"text-align: right;\">\n",
       "      <th></th>\n",
       "      <th>Coffee Price</th>\n",
       "      <th>Natural Gas Price</th>\n",
       "      <th>WTI Price</th>\n",
       "    </tr>\n",
       "    <tr>\n",
       "      <th>date</th>\n",
       "      <th></th>\n",
       "      <th></th>\n",
       "      <th></th>\n",
       "    </tr>\n",
       "  </thead>\n",
       "  <tbody>\n",
       "    <tr>\n",
       "      <th>2023-08-01</th>\n",
       "      <td>186.35</td>\n",
       "      <td>2.58</td>\n",
       "      <td>81.39</td>\n",
       "    </tr>\n",
       "    <tr>\n",
       "      <th>2023-07-01</th>\n",
       "      <td>193.49</td>\n",
       "      <td>2.55</td>\n",
       "      <td>76.07</td>\n",
       "    </tr>\n",
       "    <tr>\n",
       "      <th>2023-06-01</th>\n",
       "      <td>207.38</td>\n",
       "      <td>2.18</td>\n",
       "      <td>70.25</td>\n",
       "    </tr>\n",
       "    <tr>\n",
       "      <th>2023-05-01</th>\n",
       "      <td>220.12</td>\n",
       "      <td>2.15</td>\n",
       "      <td>71.58</td>\n",
       "    </tr>\n",
       "    <tr>\n",
       "      <th>2023-04-01</th>\n",
       "      <td>229.96</td>\n",
       "      <td>2.16</td>\n",
       "      <td>79.45</td>\n",
       "    </tr>\n",
       "    <tr>\n",
       "      <th>...</th>\n",
       "      <td>...</td>\n",
       "      <td>...</td>\n",
       "      <td>...</td>\n",
       "    </tr>\n",
       "    <tr>\n",
       "      <th>2013-12-01</th>\n",
       "      <td>125.74</td>\n",
       "      <td>4.24</td>\n",
       "      <td>97.63</td>\n",
       "    </tr>\n",
       "    <tr>\n",
       "      <th>2013-11-01</th>\n",
       "      <td>122.02</td>\n",
       "      <td>3.64</td>\n",
       "      <td>93.86</td>\n",
       "    </tr>\n",
       "    <tr>\n",
       "      <th>2013-10-01</th>\n",
       "      <td>128.70</td>\n",
       "      <td>3.68</td>\n",
       "      <td>100.54</td>\n",
       "    </tr>\n",
       "    <tr>\n",
       "      <th>2013-09-01</th>\n",
       "      <td>132.28</td>\n",
       "      <td>3.62</td>\n",
       "      <td>106.29</td>\n",
       "    </tr>\n",
       "    <tr>\n",
       "      <th>2013-08-01</th>\n",
       "      <td>135.15</td>\n",
       "      <td>3.43</td>\n",
       "      <td>106.57</td>\n",
       "    </tr>\n",
       "  </tbody>\n",
       "</table>\n",
       "<p>121 rows × 3 columns</p>\n",
       "</div>"
      ],
      "text/plain": [
       "            Coffee Price Natural Gas Price WTI Price\n",
       "date                                                \n",
       "2023-08-01        186.35              2.58     81.39\n",
       "2023-07-01        193.49              2.55     76.07\n",
       "2023-06-01        207.38              2.18     70.25\n",
       "2023-05-01        220.12              2.15     71.58\n",
       "2023-04-01        229.96              2.16     79.45\n",
       "...                  ...               ...       ...\n",
       "2013-12-01        125.74              4.24     97.63\n",
       "2013-11-01        122.02              3.64     93.86\n",
       "2013-10-01        128.70              3.68    100.54\n",
       "2013-09-01        132.28              3.62    106.29\n",
       "2013-08-01        135.15              3.43    106.57\n",
       "\n",
       "[121 rows x 3 columns]"
      ]
     },
     "execution_count": 11,
     "metadata": {},
     "output_type": "execute_result"
    }
   ],
   "source": [
    "# Merge Coffee, Natural Gas, and WTI data into on dataframe of 10 years of data\n",
    "Merged_df = pd.merge(Filtered_Coffee_df,NG_df,on=\"date\")\n",
    "Merged_df = Merged_df.rename(columns={\"value_x\":\"Coffee Price\", \"value_y\": \"Natural Gas Price\"})\n",
    "New_Merged_df = pd.merge(Merged_df,WTI_df,on=\"date\")\n",
    "New_Merged_df = New_Merged_df.rename(columns={\"value\":\"WTI Price\"})\n",
    "New_Merged_df = New_Merged_df.set_index(\"date\")\n",
    "New_Merged_df"
   ]
  }
 ],
 "metadata": {
  "kernelspec": {
   "display_name": "Python 3 (ipykernel)",
   "language": "python",
   "name": "python3"
  },
  "language_info": {
   "codemirror_mode": {
    "name": "ipython",
    "version": 3
   },
   "file_extension": ".py",
   "mimetype": "text/x-python",
   "name": "python",
   "nbconvert_exporter": "python",
   "pygments_lexer": "ipython3",
   "version": "3.10.13"
  }
 },
 "nbformat": 4,
 "nbformat_minor": 5
}
