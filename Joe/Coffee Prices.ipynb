{
 "cells": [
  {
   "cell_type": "code",
   "execution_count": 3,
   "id": "5fb23a5c",
   "metadata": {
    "scrolled": true
   },
   "outputs": [],
   "source": [
    "import pandas as pd\n",
    "import json\n",
    "import requests\n",
    "from config import AlphaVan_key\n",
    "\n",
    "base_url = f'https://www.alphavantage.co/query?interval=monthly&apikey={AlphaVan_key}&function='"
   ]
  },
  {
   "cell_type": "code",
   "execution_count": 4,
   "id": "2a461954",
   "metadata": {},
   "outputs": [],
   "source": [
    "# Define function for searching AlphaAPI\n",
    "def search_AlphaAPI(search_term):\n",
    "    url = base_url + search_term\n",
    "    response = requests.get(url).json()\n",
    "    return response"
   ]
  },
  {
   "cell_type": "code",
   "execution_count": 5,
   "id": "5fda2c49",
   "metadata": {},
   "outputs": [],
   "source": [
    "# Import Coffee / Natural Gas / Oil WTI price data from Api and turn it into Json format and\n",
    "# store them each as their own variable\n",
    "Coffee_data = search_AlphaAPI(\"COFFEE\")\n",
    "NG_data = search_AlphaAPI(\"NATURAL_GAS\")\n",
    "WTI_data = search_AlphaAPI(\"WTI\")"
   ]
  },
  {
   "cell_type": "code",
   "execution_count": 14,
   "id": "96727bbb",
   "metadata": {
    "collapsed": true
   },
   "outputs": [
    {
     "name": "stderr",
     "output_type": "stream",
     "text": [
      "C:\\Users\\Joey\\AppData\\Local\\Temp\\ipykernel_10716\\2260998949.py:4: SettingWithCopyWarning: \n",
      "A value is trying to be set on a copy of a slice from a DataFrame.\n",
      "Try using .loc[row_indexer,col_indexer] = value instead\n",
      "\n",
      "See the caveats in the documentation: https://pandas.pydata.org/pandas-docs/stable/user_guide/indexing.html#returning-a-view-versus-a-copy\n",
      "  Coffee_df[\"value\"] = Coffee_df[\"value\"].astype(float).round(2)\n"
     ]
    }
   ],
   "source": [
    "# Convert Coffee price data into a dataframe and remove useless information, clean up data by rounding\n",
    "df = pd.DataFrame(Coffee_data[\"data\"])\n",
    "Coffee_df = df[df[\"value\"] != \".\"]\n",
    "Coffee_df[\"value\"] = Coffee_df[\"value\"].astype(float).round(2)"
   ]
  },
  {
   "cell_type": "code",
   "execution_count": 9,
   "id": "2d3565e6",
   "metadata": {},
   "outputs": [],
   "source": [
    "# Convert Natural Gas and WTI price data into Dataframes, no clean up needed\n",
    "NG_df = pd.DataFrame(NG_data[\"data\"])\n",
    "WTI_df = pd.DataFrame(WTI_data[\"data\"])"
   ]
  },
  {
   "cell_type": "code",
   "execution_count": 10,
   "id": "99ada9bd",
   "metadata": {},
   "outputs": [],
   "source": [
    "# Filter Coffee dataframe to include 10 years of data for later merging to compare 10 years of data\n",
    "Filtered_Coffee_df = Coffee_df[Coffee_df.date.between(\"2013-08-01\", \"2023-08-01\")]"
   ]
  },
  {
   "cell_type": "code",
   "execution_count": 13,
   "id": "246328e6",
   "metadata": {
    "collapsed": true
   },
   "outputs": [
    {
     "data": {
      "text/html": [
       "<div>\n",
       "<style scoped>\n",
       "    .dataframe tbody tr th:only-of-type {\n",
       "        vertical-align: middle;\n",
       "    }\n",
       "\n",
       "    .dataframe tbody tr th {\n",
       "        vertical-align: top;\n",
       "    }\n",
       "\n",
       "    .dataframe thead th {\n",
       "        text-align: right;\n",
       "    }\n",
       "</style>\n",
       "<table border=\"1\" class=\"dataframe\">\n",
       "  <thead>\n",
       "    <tr style=\"text-align: right;\">\n",
       "      <th></th>\n",
       "      <th>Coffee Price</th>\n",
       "      <th>Natural Gas Price</th>\n",
       "      <th>WTI Price</th>\n",
       "    </tr>\n",
       "    <tr>\n",
       "      <th>date</th>\n",
       "      <th></th>\n",
       "      <th></th>\n",
       "      <th></th>\n",
       "    </tr>\n",
       "  </thead>\n",
       "  <tbody>\n",
       "    <tr>\n",
       "      <th>2023-08-01</th>\n",
       "      <td>186.346956521739</td>\n",
       "      <td>2.58</td>\n",
       "      <td>81.39</td>\n",
       "    </tr>\n",
       "    <tr>\n",
       "      <th>2023-07-01</th>\n",
       "      <td>193.494285714286</td>\n",
       "      <td>2.55</td>\n",
       "      <td>76.07</td>\n",
       "    </tr>\n",
       "    <tr>\n",
       "      <th>2023-06-01</th>\n",
       "      <td>207.385</td>\n",
       "      <td>2.18</td>\n",
       "      <td>70.25</td>\n",
       "    </tr>\n",
       "    <tr>\n",
       "      <th>2023-05-01</th>\n",
       "      <td>220.121304347826</td>\n",
       "      <td>2.15</td>\n",
       "      <td>71.58</td>\n",
       "    </tr>\n",
       "    <tr>\n",
       "      <th>2023-04-01</th>\n",
       "      <td>229.9555</td>\n",
       "      <td>2.16</td>\n",
       "      <td>79.45</td>\n",
       "    </tr>\n",
       "    <tr>\n",
       "      <th>...</th>\n",
       "      <td>...</td>\n",
       "      <td>...</td>\n",
       "      <td>...</td>\n",
       "    </tr>\n",
       "    <tr>\n",
       "      <th>1997-05-01</th>\n",
       "      <td>265.605909090909</td>\n",
       "      <td>2.25</td>\n",
       "      <td>20.82</td>\n",
       "    </tr>\n",
       "    <tr>\n",
       "      <th>1997-04-01</th>\n",
       "      <td>205.440909090909</td>\n",
       "      <td>2.03</td>\n",
       "      <td>19.70</td>\n",
       "    </tr>\n",
       "    <tr>\n",
       "      <th>1997-03-01</th>\n",
       "      <td>193.408095238095</td>\n",
       "      <td>1.89</td>\n",
       "      <td>20.97</td>\n",
       "    </tr>\n",
       "    <tr>\n",
       "      <th>1997-02-01</th>\n",
       "      <td>166.3255</td>\n",
       "      <td>2.15</td>\n",
       "      <td>22.18</td>\n",
       "    </tr>\n",
       "    <tr>\n",
       "      <th>1997-01-01</th>\n",
       "      <td>131.233913043478</td>\n",
       "      <td>3.45</td>\n",
       "      <td>25.13</td>\n",
       "    </tr>\n",
       "  </tbody>\n",
       "</table>\n",
       "<p>320 rows × 3 columns</p>\n",
       "</div>"
      ],
      "text/plain": [
       "                Coffee Price Natural Gas Price WTI Price\n",
       "date                                                    \n",
       "2023-08-01  186.346956521739              2.58     81.39\n",
       "2023-07-01  193.494285714286              2.55     76.07\n",
       "2023-06-01           207.385              2.18     70.25\n",
       "2023-05-01  220.121304347826              2.15     71.58\n",
       "2023-04-01          229.9555              2.16     79.45\n",
       "...                      ...               ...       ...\n",
       "1997-05-01  265.605909090909              2.25     20.82\n",
       "1997-04-01  205.440909090909              2.03     19.70\n",
       "1997-03-01  193.408095238095              1.89     20.97\n",
       "1997-02-01          166.3255              2.15     22.18\n",
       "1997-01-01  131.233913043478              3.45     25.13\n",
       "\n",
       "[320 rows x 3 columns]"
      ]
     },
     "execution_count": 13,
     "metadata": {},
     "output_type": "execute_result"
    }
   ],
   "source": [
    "# Merge Coffee, Natural Gas, and WTI data into on dataframe of 10 years of data\n",
    "Merged_df = pd.merge(df,NG_df,on=\"date\")\n",
    "Merged_df = Merged_df.rename(columns={\"value_x\":\"Coffee Price\", \"value_y\": \"Natural Gas Price\"})\n",
    "New_Merged_df = pd.merge(Merged_df,WTI_df,on=\"date\")\n",
    "New_Merged_df = New_Merged_df.rename(columns={\"value\":\"WTI Price\"})\n",
    "New_Merged_df = New_Merged_df.set_index(\"date\")"
   ]
  }
 ],
 "metadata": {
  "kernelspec": {
   "display_name": "Python 3 (ipykernel)",
   "language": "python",
   "name": "python3"
  },
  "language_info": {
   "codemirror_mode": {
    "name": "ipython",
    "version": 3
   },
   "file_extension": ".py",
   "mimetype": "text/x-python",
   "name": "python",
   "nbconvert_exporter": "python",
   "pygments_lexer": "ipython3",
   "version": "3.10.13"
  }
 },
 "nbformat": 4,
 "nbformat_minor": 5
}
